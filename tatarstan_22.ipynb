{
  "metadata": {
    "kernelspec": {
      "language": "python",
      "display_name": "Python 3",
      "name": "python3"
    },
    "language_info": {
      "name": "python",
      "version": "3.7.12",
      "mimetype": "text/x-python",
      "codemirror_mode": {
        "name": "ipython",
        "version": 3
      },
      "pygments_lexer": "ipython3",
      "nbconvert_exporter": "python",
      "file_extension": ".py"
    },
    "colab": {
      "name": "tatarstan-22.ipynb",
      "provenance": []
    }
  },
  "nbformat_minor": 0,
  "nbformat": 4,
  "cells": [
    {
      "cell_type": "code",
      "source": [
        "!pip install map-boxes"
      ],
      "metadata": {
        "id": "p5tXdbZ4Cv-0",
        "execution": {
          "iopub.status.busy": "2022-08-18T12:25:54.250758Z",
          "iopub.execute_input": "2022-08-18T12:25:54.251812Z",
          "iopub.status.idle": "2022-08-18T12:26:05.750854Z",
          "shell.execute_reply.started": "2022-08-18T12:25:54.251684Z",
          "shell.execute_reply": "2022-08-18T12:26:05.749695Z"
        },
        "trusted": true
      },
      "execution_count": null,
      "outputs": []
    },
    {
      "cell_type": "code",
      "source": [
        "import os\n",
        "import shutil\n",
        "import pandas as pd\n",
        "from sklearn.model_selection import train_test_split\n",
        "from map_boxes import mean_average_precision_for_boxes\n",
        "import random\n",
        "import re\n",
        "import matplotlib\n",
        "import matplotlib.pyplot as plt\n",
        "import matplotlib.image as immg\n",
        "from PIL import Image\n",
        "%matplotlib inline"
      ],
      "metadata": {
        "id": "VkOJXFmilOMb",
        "execution": {
          "iopub.status.busy": "2022-08-18T12:26:05.753224Z",
          "iopub.execute_input": "2022-08-18T12:26:05.753629Z",
          "iopub.status.idle": "2022-08-18T12:26:08.306411Z",
          "shell.execute_reply.started": "2022-08-18T12:26:05.753587Z",
          "shell.execute_reply": "2022-08-18T12:26:08.305141Z"
        },
        "trusted": true
      },
      "execution_count": null,
      "outputs": []
    },
    {
      "cell_type": "code",
      "source": [
        "!git clone https://github.com/ultralytics/yolov5.git"
      ],
      "metadata": {
        "id": "_6oMEgW87rEZ",
        "execution": {
          "iopub.status.busy": "2022-08-18T12:26:08.308480Z",
          "iopub.execute_input": "2022-08-18T12:26:08.308944Z",
          "iopub.status.idle": "2022-08-18T12:26:11.719589Z",
          "shell.execute_reply.started": "2022-08-18T12:26:08.308895Z",
          "shell.execute_reply": "2022-08-18T12:26:11.718429Z"
        },
        "trusted": true
      },
      "execution_count": null,
      "outputs": []
    },
    {
      "cell_type": "code",
      "source": [
        "!pip install -r ./yolov5/requirements.txt"
      ],
      "metadata": {
        "id": "bzXteV_wO1zA",
        "execution": {
          "iopub.status.busy": "2022-08-18T12:26:11.723428Z",
          "iopub.execute_input": "2022-08-18T12:26:11.724150Z",
          "iopub.status.idle": "2022-08-18T12:26:21.754015Z",
          "shell.execute_reply.started": "2022-08-18T12:26:11.724110Z",
          "shell.execute_reply": "2022-08-18T12:26:21.752795Z"
        },
        "trusted": true
      },
      "execution_count": null,
      "outputs": []
    },
    {
      "cell_type": "code",
      "source": [
        "len(os.listdir('../input/tatarstan/test_dataset_test/test/images'))"
      ],
      "metadata": {
        "id": "J5pU7fnn8vH4",
        "execution": {
          "iopub.status.busy": "2022-08-18T12:26:21.755829Z",
          "iopub.execute_input": "2022-08-18T12:26:21.756548Z",
          "iopub.status.idle": "2022-08-18T12:26:22.153274Z",
          "shell.execute_reply.started": "2022-08-18T12:26:21.756497Z",
          "shell.execute_reply": "2022-08-18T12:26:22.152139Z"
        },
        "trusted": true
      },
      "execution_count": null,
      "outputs": []
    },
    {
      "cell_type": "code",
      "source": [
        "len(os.listdir('../input/tatarstan/train_dataset_train/train/images'))"
      ],
      "metadata": {
        "id": "Mz2KHni68zOK",
        "execution": {
          "iopub.status.busy": "2022-08-18T12:26:22.154827Z",
          "iopub.execute_input": "2022-08-18T12:26:22.155179Z",
          "iopub.status.idle": "2022-08-18T12:26:22.377595Z",
          "shell.execute_reply.started": "2022-08-18T12:26:22.155142Z",
          "shell.execute_reply": "2022-08-18T12:26:22.376701Z"
        },
        "trusted": true
      },
      "execution_count": null,
      "outputs": []
    },
    {
      "cell_type": "code",
      "source": [
        "#распределение объектов в train\n",
        "pd.Series([file_name.split('_')[-1] for file_name in os.listdir('../input/tatarstan/train_dataset_train/train/labels')]).value_counts()"
      ],
      "metadata": {
        "id": "bOBWZga29_c4",
        "execution": {
          "iopub.status.busy": "2022-08-18T12:26:22.379262Z",
          "iopub.execute_input": "2022-08-18T12:26:22.379681Z",
          "iopub.status.idle": "2022-08-18T12:26:22.661824Z",
          "shell.execute_reply.started": "2022-08-18T12:26:22.379629Z",
          "shell.execute_reply": "2022-08-18T12:26:22.660708Z"
        },
        "trusted": true
      },
      "execution_count": null,
      "outputs": []
    },
    {
      "cell_type": "code",
      "source": [
        "#создадим обучающий датасет в формате yolo\n",
        "!mkdir data_for_yolo\n",
        "!mkdir data_for_yolo/data\n",
        "!mkdir data_for_yolo/data/images\n",
        "!mkdir data_for_yolo/data/labels\n",
        "!mkdir data_for_yolo/data/images/train\n",
        "!mkdir data_for_yolo/data/labels/train\n",
        "!mkdir data_for_yolo/data/images/test\n",
        "!mkdir data_for_yolo/data/labels/test"
      ],
      "metadata": {
        "id": "BRJDX-KY-h8H",
        "execution": {
          "iopub.status.busy": "2022-08-18T12:26:22.665300Z",
          "iopub.execute_input": "2022-08-18T12:26:22.666171Z",
          "iopub.status.idle": "2022-08-18T12:26:31.067942Z",
          "shell.execute_reply.started": "2022-08-18T12:26:22.666139Z",
          "shell.execute_reply": "2022-08-18T12:26:31.066605Z"
        },
        "trusted": true
      },
      "execution_count": null,
      "outputs": []
    },
    {
      "cell_type": "code",
      "source": [
        "#создадим dataset.yaml со следующим содержимым\n",
        "\n",
        "yaml_content = \"\"\"\n",
        "train: ./data_for_yolo/data/images/train/\n",
        "val: ./data_for_yolo/data/images/test/\n",
        "\n",
        "# number of classes\n",
        "nc: 5\n",
        "\n",
        "# class names\n",
        "names: ['human', 'head', 'car', 'face', 'carplate']\n",
        "\"\"\""
      ],
      "metadata": {
        "id": "ixwz4xVvAWf5",
        "execution": {
          "iopub.status.busy": "2022-08-18T12:26:31.070944Z",
          "iopub.execute_input": "2022-08-18T12:26:31.072950Z",
          "iopub.status.idle": "2022-08-18T12:26:31.078748Z",
          "shell.execute_reply.started": "2022-08-18T12:26:31.072899Z",
          "shell.execute_reply": "2022-08-18T12:26:31.077694Z"
        },
        "trusted": true
      },
      "execution_count": null,
      "outputs": []
    },
    {
      "cell_type": "code",
      "source": [
        "!mkdir correct_labels\n",
        "!mkdir full_labels"
      ],
      "metadata": {
        "execution": {
          "iopub.status.busy": "2022-08-18T12:26:31.085356Z",
          "iopub.execute_input": "2022-08-18T12:26:31.086442Z",
          "iopub.status.idle": "2022-08-18T12:26:33.022743Z",
          "shell.execute_reply.started": "2022-08-18T12:26:31.086404Z",
          "shell.execute_reply": "2022-08-18T12:26:33.021399Z"
        },
        "trusted": true,
        "id": "nC8u-jHpfLW0"
      },
      "execution_count": null,
      "outputs": []
    },
    {
      "cell_type": "code",
      "source": [
        "class2num = {'car': 0, 'head': 1, 'face': 2, 'human': 3, 'carplate': 4}\n",
        "for file_name in os.listdir('../input/tatarstan/train_dataset_train/train/labels'):\n",
        "    label = class2num[re.search(r'(?<=M_)(.*)(?=..txt)', file_name)[0]]\n",
        "    with open(f'../input/tatarstan/train_dataset_train/train/labels/{file_name}', \"r\") as file:\n",
        "        with open(f'./correct_labels/{file_name}', \"w\") as new_file:\n",
        "            for line in file:\n",
        "                line = str(label) + ' ' + ' '.join(line.split(' ')[1:])\n",
        "                new_file.write(line)"
      ],
      "metadata": {
        "execution": {
          "iopub.status.busy": "2022-08-18T12:26:33.024965Z",
          "iopub.execute_input": "2022-08-18T12:26:33.025356Z",
          "iopub.status.idle": "2022-08-18T12:27:05.817531Z",
          "shell.execute_reply.started": "2022-08-18T12:26:33.025313Z",
          "shell.execute_reply": "2022-08-18T12:27:05.816490Z"
        },
        "trusted": true,
        "id": "KYjRayBZfLW1"
      },
      "execution_count": null,
      "outputs": []
    },
    {
      "cell_type": "code",
      "source": [
        "viewed = {}\n",
        "for file_name in os.listdir('../input/tatarstan/train_dataset_train/train/labels'):\n",
        "    id = re.search(r'(.*)(?<=M)', file_name)[0]\n",
        "    try:\n",
        "        viewed[id].append(file_name)\n",
        "    except:\n",
        "        viewed[id] = [file_name]"
      ],
      "metadata": {
        "execution": {
          "iopub.status.busy": "2022-08-18T12:27:05.819144Z",
          "iopub.execute_input": "2022-08-18T12:27:05.819532Z",
          "iopub.status.idle": "2022-08-18T12:27:05.841637Z",
          "shell.execute_reply.started": "2022-08-18T12:27:05.819492Z",
          "shell.execute_reply": "2022-08-18T12:27:05.840566Z"
        },
        "trusted": true,
        "id": "Xt4xqadufLW1"
      },
      "execution_count": null,
      "outputs": []
    },
    {
      "cell_type": "code",
      "source": [
        "for file_name in list(viewed.keys()):\n",
        "    with open(f'./full_labels/{file_name}.txt', 'w') as outfile:\n",
        "        for fname in viewed[file_name]:\n",
        "            with open(f'./correct_labels/{fname}') as infile:\n",
        "                outfile.write(infile.read())"
      ],
      "metadata": {
        "execution": {
          "iopub.status.busy": "2022-08-18T12:27:05.843603Z",
          "iopub.execute_input": "2022-08-18T12:27:05.844198Z",
          "iopub.status.idle": "2022-08-18T12:27:06.227203Z",
          "shell.execute_reply.started": "2022-08-18T12:27:05.844159Z",
          "shell.execute_reply": "2022-08-18T12:27:06.226155Z"
        },
        "trusted": true,
        "id": "udP1_FRdfLW2"
      },
      "execution_count": null,
      "outputs": []
    },
    {
      "cell_type": "code",
      "source": [
        " for file_name in os.listdir('./full_labels')[:3]:\n",
        "        with open(f'./full_labels/{file_name}', \"r\") as file:\n",
        "            print(file_name)\n",
        "            for line in file:\n",
        "                print(line)"
      ],
      "metadata": {
        "execution": {
          "iopub.status.busy": "2022-08-18T12:27:06.248033Z",
          "iopub.execute_input": "2022-08-18T12:27:06.249328Z",
          "iopub.status.idle": "2022-08-18T12:27:06.263773Z",
          "shell.execute_reply.started": "2022-08-18T12:27:06.249290Z",
          "shell.execute_reply": "2022-08-18T12:27:06.262863Z"
        },
        "trusted": true,
        "id": "UeVd-zVlfLW2"
      },
      "execution_count": null,
      "outputs": []
    },
    {
      "cell_type": "code",
      "source": [
        "image_names = list(viewed.keys())"
      ],
      "metadata": {
        "execution": {
          "iopub.status.busy": "2022-08-18T12:27:06.281938Z",
          "iopub.execute_input": "2022-08-18T12:27:06.283205Z",
          "iopub.status.idle": "2022-08-18T12:27:06.291690Z",
          "shell.execute_reply.started": "2022-08-18T12:27:06.283167Z",
          "shell.execute_reply": "2022-08-18T12:27:06.290514Z"
        },
        "trusted": true,
        "id": "wI-lXnL3fLW3"
      },
      "execution_count": null,
      "outputs": []
    },
    {
      "cell_type": "code",
      "source": [
        "train_image_names, val_image_names = train_test_split(image_names, test_size=0.2, random_state=22)\n",
        "print(len(train_image_names), len(val_image_names))"
      ],
      "metadata": {
        "id": "rm6f742rCfPp",
        "execution": {
          "iopub.status.busy": "2022-08-18T12:27:06.293379Z",
          "iopub.execute_input": "2022-08-18T12:27:06.294202Z",
          "iopub.status.idle": "2022-08-18T12:27:06.310226Z",
          "shell.execute_reply.started": "2022-08-18T12:27:06.294165Z",
          "shell.execute_reply": "2022-08-18T12:27:06.309302Z"
        },
        "trusted": true
      },
      "execution_count": null,
      "outputs": []
    },
    {
      "cell_type": "code",
      "source": [
        "#train\n",
        "for train_image in train_image_names:\n",
        "  #labels\n",
        "    for file in os.listdir('./full_labels'): \n",
        "        if train_image in file: \n",
        "            shutil.copy('./full_labels/' + file, './data_for_yolo/data/labels/train/' + file)\n",
        "  #images \n",
        "    for file in os.listdir('../input/tatarstan/train_dataset_train/train/images'): \n",
        "        if train_image + '.jpg' == file: \n",
        "            shutil.copy('../input/tatarstan/train_dataset_train/train/images/' + file,\n",
        "                        './data_for_yolo/data/images/train/')\n",
        "\n",
        "#val\n",
        "for val_image in val_image_names:\n",
        "  #labels\n",
        "    for file in os.listdir('./full_labels'): \n",
        "        if val_image in file: \n",
        "            shutil.copy('./full_labels/' + file, './data_for_yolo/data/labels/test/' + file)\n",
        "  #images \n",
        "    for file in os.listdir('../input/tatarstan/train_dataset_train/train/images'): \n",
        "        if val_image + '.jpg' == file: \n",
        "            shutil.copy('../input/tatarstan/train_dataset_train/train/images/' + file,\n",
        "                        './data_for_yolo/data/images/test/')"
      ],
      "metadata": {
        "id": "xxzLV7Bv-gyy",
        "execution": {
          "iopub.status.busy": "2022-08-18T12:27:06.313331Z",
          "iopub.execute_input": "2022-08-18T12:27:06.314591Z",
          "iopub.status.idle": "2022-08-18T12:27:35.581197Z",
          "shell.execute_reply.started": "2022-08-18T12:27:06.314558Z",
          "shell.execute_reply": "2022-08-18T12:27:35.580133Z"
        },
        "trusted": true
      },
      "execution_count": null,
      "outputs": []
    },
    {
      "cell_type": "code",
      "source": [
        "#валидация \n",
        "print(len(os.listdir('./data_for_yolo/data/images/test')))\n",
        "print(len(os.listdir('./data_for_yolo/data/images/train')))"
      ],
      "metadata": {
        "id": "Gtqj-p75GcZ7",
        "execution": {
          "iopub.status.busy": "2022-08-18T12:27:35.586435Z",
          "iopub.execute_input": "2022-08-18T12:27:35.586761Z",
          "iopub.status.idle": "2022-08-18T12:27:35.595252Z",
          "shell.execute_reply.started": "2022-08-18T12:27:35.586730Z",
          "shell.execute_reply": "2022-08-18T12:27:35.594298Z"
        },
        "trusted": true
      },
      "execution_count": null,
      "outputs": []
    },
    {
      "cell_type": "code",
      "source": [
        "print(len(os.listdir('./data_for_yolo/data/labels/test')))\n",
        "print(len(os.listdir('./data_for_yolo/data/labels/train')))"
      ],
      "metadata": {
        "id": "eySlFIcZQP2f",
        "execution": {
          "iopub.status.busy": "2022-08-18T12:27:35.596816Z",
          "iopub.execute_input": "2022-08-18T12:27:35.597168Z",
          "iopub.status.idle": "2022-08-18T12:27:37.168875Z",
          "shell.execute_reply.started": "2022-08-18T12:27:35.597130Z",
          "shell.execute_reply": "2022-08-18T12:27:37.167544Z"
        },
        "trusted": true
      },
      "execution_count": null,
      "outputs": []
    },
    {
      "cell_type": "code",
      "source": [
        "#обучение"
      ],
      "metadata": {
        "id": "5BJ-jh9jOB0H",
        "execution": {
          "iopub.status.busy": "2022-08-18T12:27:37.174470Z",
          "iopub.execute_input": "2022-08-18T12:27:37.180075Z",
          "iopub.status.idle": "2022-08-18T12:27:37.213891Z",
          "shell.execute_reply.started": "2022-08-18T12:27:37.180022Z",
          "shell.execute_reply": "2022-08-18T12:27:37.212437Z"
        },
        "trusted": true
      },
      "execution_count": null,
      "outputs": []
    },
    {
      "cell_type": "code",
      "source": [
        "!nvidia-smi"
      ],
      "metadata": {
        "id": "W7AN6he9V9z7",
        "execution": {
          "iopub.status.busy": "2022-08-18T12:27:37.216598Z",
          "iopub.execute_input": "2022-08-18T12:27:37.217768Z",
          "iopub.status.idle": "2022-08-18T12:27:38.264325Z",
          "shell.execute_reply.started": "2022-08-18T12:27:37.217594Z",
          "shell.execute_reply": "2022-08-18T12:27:38.263032Z"
        },
        "trusted": true
      },
      "execution_count": null,
      "outputs": []
    },
    {
      "cell_type": "code",
      "source": [
        "!wandb off"
      ],
      "metadata": {
        "execution": {
          "iopub.status.busy": "2022-08-18T12:27:38.266448Z",
          "iopub.execute_input": "2022-08-18T12:27:38.266873Z",
          "iopub.status.idle": "2022-08-18T12:27:40.986206Z",
          "shell.execute_reply.started": "2022-08-18T12:27:38.266828Z",
          "shell.execute_reply": "2022-08-18T12:27:40.984844Z"
        },
        "trusted": true,
        "id": "BIyJljiafLW6"
      },
      "execution_count": null,
      "outputs": []
    },
    {
      "cell_type": "code",
      "source": [
        "shutil.copy('../input/tatarstan/dataset.yaml', './data_for_yolo')\n",
        "shutil.move('./data_for_yolo', './yolov5')"
      ],
      "metadata": {
        "execution": {
          "iopub.status.busy": "2022-08-18T12:27:40.988421Z",
          "iopub.execute_input": "2022-08-18T12:27:40.988865Z",
          "iopub.status.idle": "2022-08-18T12:27:41.003696Z",
          "shell.execute_reply.started": "2022-08-18T12:27:40.988819Z",
          "shell.execute_reply": "2022-08-18T12:27:41.002793Z"
        },
        "trusted": true,
        "id": "JYaQn5d2fLW6"
      },
      "execution_count": null,
      "outputs": []
    },
    {
      "cell_type": "code",
      "source": [
        "# #train\n",
        "# !python ./yolov5/train.py --img 1280 --batch 20 --epochs 65 --data ./yolov5/data_for_yolo/dataset.yaml --weights yolov5s.pt --cfg ./yolov5/models/hub/yolov5s.yaml --name yolov5s_results --cache\n",
        "# !python ./yolov5/train.py --img 1280 --batch 10 --epochs 40 --data ./yolov5/data_for_yolo/dataset.yaml --weights yolov5m6.pt --cfg ./yolov5/models/hub/yolov5m6.yaml --name yolov5m6_results --cache\n",
        "# !python ./yolov5/train.py --img 1980 --batch 9 --epochs 60 --data ./yolov5/data_for_yolo/dataset.yaml --weights yolov5s6.pt --cfg ./yolov5/models/hub/yolov5s6.yaml --name yolov5s6_results --cache"
      ],
      "metadata": {
        "id": "cWr2R097OJMW",
        "execution": {
          "iopub.status.busy": "2022-08-18T12:27:41.005305Z",
          "iopub.execute_input": "2022-08-18T12:27:41.005680Z"
        },
        "trusted": true
      },
      "execution_count": null,
      "outputs": []
    },
    {
      "cell_type": "code",
      "source": [
        "!python3 ./yolov5/detect.py --weights ../input/tatarstan/yolov5s6_1980_60epochs_9batch.pt ../input/tatarstan/weights/yolov5m6_1280_40epochs_10batch_0.598046.pt ../input/tatarstan/weights/yolov5s_1280_65epochs_20batch_0.569434.pt --img 1980 --conf 0.25 --source ./yolov5/data_for_yolo/data/images/test --save-txt --save-conf"
      ],
      "metadata": {
        "id": "MPWssRhUY_bf",
        "scrolled": true,
        "execution": {
          "iopub.status.busy": "2022-08-17T19:13:30.246144Z",
          "iopub.execute_input": "2022-08-17T19:13:30.247098Z",
          "iopub.status.idle": "2022-08-17T19:14:34.072098Z",
          "shell.execute_reply.started": "2022-08-17T19:13:30.247030Z",
          "shell.execute_reply": "2022-08-17T19:14:34.070548Z"
        },
        "trusted": true
      },
      "execution_count": null,
      "outputs": []
    },
    {
      "cell_type": "code",
      "source": [
        "def get_soliton_labels_df(path_to_txt_folder):\n",
        "  simple_solution = []\n",
        "  for detection_file in os.listdir(path_to_txt_folder):\n",
        "    img_name = detection_file.split('.')[0] + '.jpg'\n",
        "    with open(path_to_txt_folder + detection_file, 'r') as f:\n",
        "      data = f.read()\n",
        "      data = [i for i in data.split('\\n') if i != '']\n",
        "    for line in data:\n",
        "      val = [float(i) for i in line.split()]\n",
        "      cls, xywh, conf = val[0], val[1:5], val[5]\n",
        "      center_x, center_y, width, height = xywh\n",
        "      xmin = center_x - (width / 2)\n",
        "      xmax = center_x + (width / 2)\n",
        "      ymin = center_y - (height / 2)\n",
        "      ymax = center_y + (height / 2)\n",
        "      simple_solution.append([img_name, cls, conf, xmin, xmax, ymin, ymax])\n",
        "  return simple_solution"
      ],
      "metadata": {
        "id": "I3rWTnEqc4VF",
        "execution": {
          "iopub.status.busy": "2022-08-17T19:18:01.606270Z",
          "iopub.execute_input": "2022-08-17T19:18:01.606745Z",
          "iopub.status.idle": "2022-08-17T19:18:01.618746Z",
          "shell.execute_reply.started": "2022-08-17T19:18:01.606715Z",
          "shell.execute_reply": "2022-08-17T19:18:01.617120Z"
        },
        "trusted": true
      },
      "execution_count": null,
      "outputs": []
    },
    {
      "cell_type": "code",
      "source": [
        "simple_solution = get_soliton_labels_df('./yolov5/runs/detect/exp/labels/')\n",
        "simple_solution = pd.DataFrame(simple_solution, columns=['ImageID', 'LabelName', 'Conf', 'XMin', 'XMax', 'YMin', 'YMax'])"
      ],
      "metadata": {
        "id": "U3BxE7oVKMm6",
        "execution": {
          "iopub.status.busy": "2022-08-17T19:18:10.844474Z",
          "iopub.execute_input": "2022-08-17T19:18:10.845296Z",
          "iopub.status.idle": "2022-08-17T19:18:10.936736Z",
          "shell.execute_reply.started": "2022-08-17T19:18:10.845211Z",
          "shell.execute_reply": "2022-08-17T19:18:10.934909Z"
        },
        "trusted": true
      },
      "execution_count": null,
      "outputs": []
    },
    {
      "cell_type": "code",
      "source": [
        "def get_test_labels_df(path_to_txt_folder):\n",
        "  simple_solution = []\n",
        "  for detection_file in os.listdir(path_to_txt_folder):\n",
        "    img_name = detection_file.split('.')[0] + '.jpg'\n",
        "    with open(path_to_txt_folder + detection_file, 'r') as f:\n",
        "      data = f.read()\n",
        "      data = [i for i in data.split('\\n') if i != '']\n",
        "    for line in data:\n",
        "      val = [float(i) for i in line.split()]\n",
        "      cls, center_x, center_y, width, height = val\n",
        "      xmin = center_x - (width / 2)\n",
        "      xmax = center_x + (width / 2)\n",
        "      ymin = center_y - (height / 2)\n",
        "      ymax = center_y + (height / 2)\n",
        "      simple_solution.append([img_name, cls, xmin, xmax, ymin, ymax])\n",
        "  return simple_solution"
      ],
      "metadata": {
        "id": "Ftgfdk42OPSw",
        "execution": {
          "iopub.status.busy": "2022-08-17T19:18:13.899353Z",
          "iopub.execute_input": "2022-08-17T19:18:13.899774Z",
          "iopub.status.idle": "2022-08-17T19:18:13.911458Z",
          "shell.execute_reply.started": "2022-08-17T19:18:13.899714Z",
          "shell.execute_reply": "2022-08-17T19:18:13.909644Z"
        },
        "trusted": true
      },
      "execution_count": null,
      "outputs": []
    },
    {
      "cell_type": "code",
      "source": [
        "test_labels = get_test_labels_df('./yolov5/data_for_yolo/data/labels/test/')\n",
        "test_labels = pd.DataFrame(test_labels, columns=['ImageID', 'LabelName', 'XMin', 'XMax', 'YMin', 'YMax'])"
      ],
      "metadata": {
        "id": "yykCSwcWPMwi",
        "execution": {
          "iopub.status.busy": "2022-08-17T19:18:16.673947Z",
          "iopub.execute_input": "2022-08-17T19:18:16.674847Z",
          "iopub.status.idle": "2022-08-17T19:18:16.755063Z",
          "shell.execute_reply.started": "2022-08-17T19:18:16.674812Z",
          "shell.execute_reply": "2022-08-17T19:18:16.753735Z"
        },
        "trusted": true
      },
      "execution_count": null,
      "outputs": []
    },
    {
      "cell_type": "code",
      "source": [
        "mean_ap, average_precisions = mean_average_precision_for_boxes(test_labels, simple_solution, iou_threshold=0.5, verbose=False)"
      ],
      "metadata": {
        "id": "m2AKY94kc5pt",
        "execution": {
          "iopub.status.busy": "2022-08-17T19:18:17.959680Z",
          "iopub.execute_input": "2022-08-17T19:18:17.960146Z",
          "iopub.status.idle": "2022-08-17T19:18:18.134073Z",
          "shell.execute_reply.started": "2022-08-17T19:18:17.960099Z",
          "shell.execute_reply": "2022-08-17T19:18:18.132711Z"
        },
        "trusted": true
      },
      "execution_count": null,
      "outputs": []
    },
    {
      "cell_type": "code",
      "source": [
        "mean_ap"
      ],
      "metadata": {
        "id": "Y5tHgSQ1sAki",
        "execution": {
          "iopub.status.busy": "2022-08-17T19:18:20.719783Z",
          "iopub.execute_input": "2022-08-17T19:18:20.720200Z",
          "iopub.status.idle": "2022-08-17T19:18:20.732733Z",
          "shell.execute_reply.started": "2022-08-17T19:18:20.720171Z",
          "shell.execute_reply": "2022-08-17T19:18:20.728376Z"
        },
        "trusted": true
      },
      "execution_count": null,
      "outputs": []
    },
    {
      "cell_type": "code",
      "source": [
        "def plot_image(image_name, data, path):\n",
        "    image_group = df_grp.get_group(image_name)\n",
        "    bbox = image_group.loc[:,['XMin', 'XMax', 'YMin', 'YMax']]\n",
        "    img = immg.imread(path + image_name)\n",
        "    wf, hf =  Image.open(os.path.join(path, image_name)).size\n",
        "    fig,ax = plt.subplots(figsize=(18,10))\n",
        "    ax.imshow(img, cmap='binary')\n",
        "    print(len(bbox))\n",
        "    for i in range(len(bbox)):\n",
        "        box = bbox.iloc[i].values\n",
        "        print(box)\n",
        "        x,y,w,h = box[0]*wf, box[2]*hf, (box[1]-box[0])*wf, (box[3]-box[2])*hf\n",
        "        rect = matplotlib.patches.Rectangle((x,y),w,h,linewidth=1,edgecolor='r',facecolor='none',)\n",
        "        ax.add_patch(rect)\n",
        "    plt.show()"
      ],
      "metadata": {
        "execution": {
          "iopub.status.busy": "2022-08-17T11:12:13.447844Z",
          "iopub.execute_input": "2022-08-17T11:12:13.448500Z",
          "iopub.status.idle": "2022-08-17T11:12:13.457288Z",
          "shell.execute_reply.started": "2022-08-17T11:12:13.448464Z",
          "shell.execute_reply": "2022-08-17T11:12:13.456295Z"
        },
        "trusted": true,
        "id": "on6QpCHffLW8"
      },
      "execution_count": null,
      "outputs": []
    },
    {
      "cell_type": "code",
      "source": [
        "# path = './yolov5/data_for_yolo/data/images/test/'\n",
        "# df_grp = test_labels.groupby(['ImageID'])\n",
        "# for img_name in os.listdir(path): \n",
        "#     plot_image(img_name, df_grp, path)"
      ],
      "metadata": {
        "execution": {
          "iopub.status.busy": "2022-08-17T11:12:15.190751Z",
          "iopub.execute_input": "2022-08-17T11:12:15.191431Z",
          "iopub.status.idle": "2022-08-17T11:13:15.014797Z",
          "shell.execute_reply.started": "2022-08-17T11:12:15.191397Z",
          "shell.execute_reply": "2022-08-17T11:13:15.012952Z"
        },
        "collapsed": true,
        "jupyter": {
          "outputs_hidden": true
        },
        "trusted": true,
        "id": "WAkHsPzqfLW8"
      },
      "execution_count": null,
      "outputs": []
    },
    {
      "cell_type": "code",
      "source": [
        "!python3 yolov5/detect.py --weights ../input/tatarstan/yolov5s6_1980_60epochs_9batch.pt ../input/tatarstan/weights/yolov5m6_1280_40epochs_10batch_0.598046.pt ../input/tatarstan/weights/yolov5s_1280_65epochs_20batch_0.569434.pt --img 1980 --conf 0.25 --source ../input/tatarstan/test_dataset_test/test/images --save-txt --save-conf"
      ],
      "metadata": {
        "id": "IGlDlGr3jZta",
        "execution": {
          "iopub.status.busy": "2022-08-17T19:26:55.445847Z",
          "iopub.execute_input": "2022-08-17T19:26:55.446317Z",
          "iopub.status.idle": "2022-08-17T19:29:43.138792Z",
          "shell.execute_reply.started": "2022-08-17T19:26:55.446285Z",
          "shell.execute_reply": "2022-08-17T19:29:43.137176Z"
        },
        "collapsed": true,
        "jupyter": {
          "outputs_hidden": true
        },
        "trusted": true
      },
      "execution_count": null,
      "outputs": []
    },
    {
      "cell_type": "code",
      "source": [
        "def get_soliton_labels_df_simple_solution(path_to_txt_folder):\n",
        "  simple_solution = []\n",
        "  for detection_file in os.listdir(path_to_txt_folder):\n",
        "    img_name = detection_file.split('.')[0] + '.jpg'\n",
        "    with open(path_to_txt_folder + detection_file, 'r') as f:\n",
        "      data = f.read()\n",
        "      data = [i for i in data.split('\\n') if i != '']\n",
        "    for line in data:\n",
        "      val = [float(i) for i in line.split()]\n",
        "      cls, xywh, conf = val[0], val[1:5], val[5]\n",
        "      center_x, center_y, width, height = xywh\n",
        "      xmin = center_x - (width / 2)\n",
        "      xmax = center_x + (width / 2)\n",
        "      ymin = center_y - (height / 2)\n",
        "      ymax = center_y + (height / 2)\n",
        "      simple_solution.append([img_name, int(cls), conf, xmin, xmax, ymin, ymax])\n",
        "  return simple_solution"
      ],
      "metadata": {
        "id": "MHexw0z9kF80",
        "execution": {
          "iopub.status.busy": "2022-08-17T19:34:57.996993Z",
          "iopub.execute_input": "2022-08-17T19:34:57.997472Z",
          "iopub.status.idle": "2022-08-17T19:34:58.008952Z",
          "shell.execute_reply.started": "2022-08-17T19:34:57.997425Z",
          "shell.execute_reply": "2022-08-17T19:34:58.007396Z"
        },
        "trusted": true
      },
      "execution_count": null,
      "outputs": []
    },
    {
      "cell_type": "code",
      "source": [
        "simple_solution = get_soliton_labels_df_simple_solution('yolov5/runs/detect/exp2/labels/')\n",
        "simple_solution = pd.DataFrame(simple_solution, columns=['ImageID', 'LabelName', 'Conf', 'XMin', 'XMax', 'YMin', 'YMax'])"
      ],
      "metadata": {
        "id": "cbc3lBzGkNfs",
        "execution": {
          "iopub.status.busy": "2022-08-17T19:36:51.699276Z",
          "iopub.execute_input": "2022-08-17T19:36:51.699659Z",
          "iopub.status.idle": "2022-08-17T19:36:51.812114Z",
          "shell.execute_reply.started": "2022-08-17T19:36:51.699629Z",
          "shell.execute_reply": "2022-08-17T19:36:51.810383Z"
        },
        "trusted": true
      },
      "execution_count": null,
      "outputs": []
    },
    {
      "cell_type": "code",
      "source": [
        "simple_solution.to_csv(\"sample_solution.csv\", sep=';', index=False)"
      ],
      "metadata": {
        "id": "YDfLvlP1rXrx",
        "execution": {
          "iopub.status.busy": "2022-08-17T19:36:54.797947Z",
          "iopub.execute_input": "2022-08-17T19:36:54.798432Z",
          "iopub.status.idle": "2022-08-17T19:36:54.884307Z",
          "shell.execute_reply.started": "2022-08-17T19:36:54.798399Z",
          "shell.execute_reply": "2022-08-17T19:36:54.882850Z"
        },
        "trusted": true
      },
      "execution_count": null,
      "outputs": []
    },
    {
      "cell_type": "code",
      "source": [
        "df = pd.read_csv(\"sample_solution.csv\", sep=';', index_col=None)"
      ],
      "metadata": {
        "id": "bWp3vOturlAB",
        "execution": {
          "iopub.status.busy": "2022-08-17T19:36:57.254836Z",
          "iopub.execute_input": "2022-08-17T19:36:57.255232Z",
          "iopub.status.idle": "2022-08-17T19:36:57.279831Z",
          "shell.execute_reply.started": "2022-08-17T19:36:57.255202Z",
          "shell.execute_reply": "2022-08-17T19:36:57.278658Z"
        },
        "trusted": true
      },
      "execution_count": null,
      "outputs": []
    },
    {
      "cell_type": "code",
      "source": [
        "df['LabelName'].value_counts()"
      ],
      "metadata": {
        "id": "ZOBlOu1Jrqpd",
        "execution": {
          "iopub.status.busy": "2022-08-17T19:36:59.054936Z",
          "iopub.execute_input": "2022-08-17T19:36:59.057528Z",
          "iopub.status.idle": "2022-08-17T19:36:59.070567Z",
          "shell.execute_reply.started": "2022-08-17T19:36:59.057461Z",
          "shell.execute_reply": "2022-08-17T19:36:59.069109Z"
        },
        "trusted": true
      },
      "execution_count": null,
      "outputs": []
    },
    {
      "cell_type": "code",
      "source": [
        "df"
      ],
      "metadata": {
        "execution": {
          "iopub.status.busy": "2022-08-16T17:29:01.104410Z",
          "iopub.execute_input": "2022-08-16T17:29:01.105191Z",
          "iopub.status.idle": "2022-08-16T17:29:01.130626Z",
          "shell.execute_reply.started": "2022-08-16T17:29:01.105136Z",
          "shell.execute_reply": "2022-08-16T17:29:01.129379Z"
        },
        "trusted": true,
        "id": "9OJaCJ3AfLW-"
      },
      "execution_count": null,
      "outputs": []
    }
  ]
}